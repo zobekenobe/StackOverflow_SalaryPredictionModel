{
 "cells": [
  {
   "cell_type": "code",
   "execution_count": 1,
   "id": "748f3737",
   "metadata": {},
   "outputs": [],
   "source": [
    "# importing the necessary libraries\n",
    "import numpy as np\n",
    "import pandas as pd\n",
    "import matplotlib.pyplot as plt\n",
    "import seaborn as sns\n",
    "\n",
    "import pickle\n",
    "import warnings\n",
    "warnings.filterwarnings('ignore')"
   ]
  },
  {
   "cell_type": "code",
   "execution_count": 24,
   "id": "a1c7bd8a",
   "metadata": {},
   "outputs": [],
   "source": [
    "import zipfile"
   ]
  },
  {
   "cell_type": "code",
   "execution_count": 50,
   "id": "5b083f51",
   "metadata": {},
   "outputs": [],
   "source": [
    "with zipfile.ZipFile('stack-overflow-developer-survey-2020.zip') as zippy:\n",
    "    zippy.extract('survey_results_public.csv')"
   ]
  },
  {
   "cell_type": "code",
   "execution_count": 446,
   "id": "33bf7fa0",
   "metadata": {},
   "outputs": [],
   "source": [
    "# read the csv file\n",
    "df = pd.read_csv('survey_results_public.csv')"
   ]
  },
  {
   "cell_type": "code",
   "execution_count": 447,
   "id": "fab470f2",
   "metadata": {},
   "outputs": [
    {
     "name": "stdout",
     "output_type": "stream",
     "text": [
      "<class 'pandas.core.frame.DataFrame'>\n",
      "RangeIndex: 64461 entries, 0 to 64460\n",
      "Data columns (total 61 columns):\n",
      " #   Column                        Non-Null Count  Dtype  \n",
      "---  ------                        --------------  -----  \n",
      " 0   Respondent                    64461 non-null  int64  \n",
      " 1   MainBranch                    64162 non-null  object \n",
      " 2   Hobbyist                      64416 non-null  object \n",
      " 3   Age                           45446 non-null  float64\n",
      " 4   Age1stCode                    57900 non-null  object \n",
      " 5   CompFreq                      40069 non-null  object \n",
      " 6   CompTotal                     34826 non-null  float64\n",
      " 7   ConvertedComp                 34756 non-null  float64\n",
      " 8   Country                       64072 non-null  object \n",
      " 9   CurrencyDesc                  45472 non-null  object \n",
      " 10  CurrencySymbol                45472 non-null  object \n",
      " 11  DatabaseDesireNextYear        44070 non-null  object \n",
      " 12  DatabaseWorkedWith            49537 non-null  object \n",
      " 13  DevType                       49370 non-null  object \n",
      " 14  EdLevel                       57431 non-null  object \n",
      " 15  Employment                    63854 non-null  object \n",
      " 16  Ethnicity                     45948 non-null  object \n",
      " 17  Gender                        50557 non-null  object \n",
      " 18  JobFactors                    49349 non-null  object \n",
      " 19  JobSat                        45194 non-null  object \n",
      " 20  JobSeek                       51727 non-null  object \n",
      " 21  LanguageDesireNextYear        54113 non-null  object \n",
      " 22  LanguageWorkedWith            57378 non-null  object \n",
      " 23  MiscTechDesireNextYear        42379 non-null  object \n",
      " 24  MiscTechWorkedWith            40314 non-null  object \n",
      " 25  NEWCollabToolsDesireNextYear  47287 non-null  object \n",
      " 26  NEWCollabToolsWorkedWith      52883 non-null  object \n",
      " 27  NEWDevOps                     42686 non-null  object \n",
      " 28  NEWDevOpsImpt                 41732 non-null  object \n",
      " 29  NEWEdImpt                     48465 non-null  object \n",
      " 30  NEWJobHunt                    42286 non-null  object \n",
      " 31  NEWJobHuntResearch            41022 non-null  object \n",
      " 32  NEWLearn                      56156 non-null  object \n",
      " 33  NEWOffTopic                   50804 non-null  object \n",
      " 34  NEWOnboardGood                42623 non-null  object \n",
      " 35  NEWOtherComms                 57205 non-null  object \n",
      " 36  NEWOvertime                   43231 non-null  object \n",
      " 37  NEWPurchaseResearch           37321 non-null  object \n",
      " 38  NEWPurpleLink                 54803 non-null  object \n",
      " 39  NEWSOSites                    58275 non-null  object \n",
      " 40  NEWStuck                      54983 non-null  object \n",
      " 41  OpSys                         56228 non-null  object \n",
      " 42  OrgSize                       44334 non-null  object \n",
      " 43  PlatformDesireNextYear        50605 non-null  object \n",
      " 44  PlatformWorkedWith            53843 non-null  object \n",
      " 45  PurchaseWhat                  39364 non-null  object \n",
      " 46  Sexuality                     43992 non-null  object \n",
      " 47  SOAccount                     56805 non-null  object \n",
      " 48  SOComm                        56476 non-null  object \n",
      " 49  SOPartFreq                    46792 non-null  object \n",
      " 50  SOVisitFreq                   56970 non-null  object \n",
      " 51  SurveyEase                    51802 non-null  object \n",
      " 52  SurveyLength                  51701 non-null  object \n",
      " 53  Trans                         49345 non-null  object \n",
      " 54  UndergradMajor                50995 non-null  object \n",
      " 55  WebframeDesireNextYear        40024 non-null  object \n",
      " 56  WebframeWorkedWith            42279 non-null  object \n",
      " 57  WelcomeChange                 52683 non-null  object \n",
      " 58  WorkWeekHrs                   41151 non-null  float64\n",
      " 59  YearsCode                     57684 non-null  object \n",
      " 60  YearsCodePro                  46349 non-null  object \n",
      "dtypes: float64(4), int64(1), object(56)\n",
      "memory usage: 30.0+ MB\n"
     ]
    }
   ],
   "source": [
    "# checking the data \n",
    "df.info()"
   ]
  },
  {
   "cell_type": "code",
   "execution_count": 448,
   "id": "d75cea7b",
   "metadata": {},
   "outputs": [],
   "source": [
    "required_col = ['Employment', 'Country', 'EdLevel','YearsCodePro', 'Ethnicity', 'ConvertedComp']"
   ]
  },
  {
   "cell_type": "code",
   "execution_count": 449,
   "id": "976f80f7",
   "metadata": {},
   "outputs": [],
   "source": [
    "df = df[required_col]"
   ]
  },
  {
   "cell_type": "code",
   "execution_count": 450,
   "id": "d5f782b8",
   "metadata": {},
   "outputs": [
    {
     "data": {
      "text/html": [
       "<div>\n",
       "<style scoped>\n",
       "    .dataframe tbody tr th:only-of-type {\n",
       "        vertical-align: middle;\n",
       "    }\n",
       "\n",
       "    .dataframe tbody tr th {\n",
       "        vertical-align: top;\n",
       "    }\n",
       "\n",
       "    .dataframe thead th {\n",
       "        text-align: right;\n",
       "    }\n",
       "</style>\n",
       "<table border=\"1\" class=\"dataframe\">\n",
       "  <thead>\n",
       "    <tr style=\"text-align: right;\">\n",
       "      <th></th>\n",
       "      <th>Employment</th>\n",
       "      <th>Country</th>\n",
       "      <th>EdLevel</th>\n",
       "      <th>YearsCodePro</th>\n",
       "      <th>Ethnicity</th>\n",
       "      <th>ConvertedComp</th>\n",
       "    </tr>\n",
       "  </thead>\n",
       "  <tbody>\n",
       "    <tr>\n",
       "      <th>0</th>\n",
       "      <td>Independent contractor, freelancer, or self-em...</td>\n",
       "      <td>Germany</td>\n",
       "      <td>Master’s degree (M.A., M.S., M.Eng., MBA, etc.)</td>\n",
       "      <td>27</td>\n",
       "      <td>White or of European descent</td>\n",
       "      <td>NaN</td>\n",
       "    </tr>\n",
       "    <tr>\n",
       "      <th>1</th>\n",
       "      <td>Employed full-time</td>\n",
       "      <td>United Kingdom</td>\n",
       "      <td>Bachelor’s degree (B.A., B.S., B.Eng., etc.)</td>\n",
       "      <td>4</td>\n",
       "      <td>NaN</td>\n",
       "      <td>NaN</td>\n",
       "    </tr>\n",
       "    <tr>\n",
       "      <th>2</th>\n",
       "      <td>NaN</td>\n",
       "      <td>Russian Federation</td>\n",
       "      <td>NaN</td>\n",
       "      <td>NaN</td>\n",
       "      <td>NaN</td>\n",
       "      <td>NaN</td>\n",
       "    </tr>\n",
       "    <tr>\n",
       "      <th>3</th>\n",
       "      <td>NaN</td>\n",
       "      <td>Albania</td>\n",
       "      <td>Master’s degree (M.A., M.S., M.Eng., MBA, etc.)</td>\n",
       "      <td>4</td>\n",
       "      <td>White or of European descent</td>\n",
       "      <td>NaN</td>\n",
       "    </tr>\n",
       "    <tr>\n",
       "      <th>4</th>\n",
       "      <td>Employed full-time</td>\n",
       "      <td>United States</td>\n",
       "      <td>Bachelor’s degree (B.A., B.S., B.Eng., etc.)</td>\n",
       "      <td>8</td>\n",
       "      <td>White or of European descent</td>\n",
       "      <td>NaN</td>\n",
       "    </tr>\n",
       "  </tbody>\n",
       "</table>\n",
       "</div>"
      ],
      "text/plain": [
       "                                          Employment             Country  \\\n",
       "0  Independent contractor, freelancer, or self-em...             Germany   \n",
       "1                                 Employed full-time      United Kingdom   \n",
       "2                                                NaN  Russian Federation   \n",
       "3                                                NaN             Albania   \n",
       "4                                 Employed full-time       United States   \n",
       "\n",
       "                                           EdLevel YearsCodePro  \\\n",
       "0  Master’s degree (M.A., M.S., M.Eng., MBA, etc.)           27   \n",
       "1     Bachelor’s degree (B.A., B.S., B.Eng., etc.)            4   \n",
       "2                                              NaN          NaN   \n",
       "3  Master’s degree (M.A., M.S., M.Eng., MBA, etc.)            4   \n",
       "4     Bachelor’s degree (B.A., B.S., B.Eng., etc.)            8   \n",
       "\n",
       "                      Ethnicity  ConvertedComp  \n",
       "0  White or of European descent            NaN  \n",
       "1                           NaN            NaN  \n",
       "2                           NaN            NaN  \n",
       "3  White or of European descent            NaN  \n",
       "4  White or of European descent            NaN  "
      ]
     },
     "execution_count": 450,
     "metadata": {},
     "output_type": "execute_result"
    }
   ],
   "source": [
    "df.head()"
   ]
  },
  {
   "cell_type": "code",
   "execution_count": 451,
   "id": "d0c80428",
   "metadata": {},
   "outputs": [],
   "source": [
    "# renaming the target column 'ConvertedComp' to 'Salary'\n",
    "df.rename(columns = {'ConvertedComp' : 'Salary'}, inplace = True)"
   ]
  },
  {
   "cell_type": "code",
   "execution_count": 452,
   "id": "8af2e0e3",
   "metadata": {},
   "outputs": [
    {
     "data": {
      "text/plain": [
       "Employment      0.009417\n",
       "Country         0.006035\n",
       "EdLevel         0.109058\n",
       "YearsCodePro    0.280976\n",
       "Ethnicity       0.287197\n",
       "Salary          0.460821\n",
       "dtype: float64"
      ]
     },
     "execution_count": 452,
     "metadata": {},
     "output_type": "execute_result"
    }
   ],
   "source": [
    "# checking for null values\n",
    "df.isnull().sum()/len(df)"
   ]
  },
  {
   "cell_type": "code",
   "execution_count": 453,
   "id": "3bd04b44",
   "metadata": {},
   "outputs": [],
   "source": [
    "# we drop all the rows where the target variable is null\n",
    "df = df[~df.Salary.isnull()]"
   ]
  },
  {
   "cell_type": "code",
   "execution_count": 454,
   "id": "227c31e0",
   "metadata": {},
   "outputs": [
    {
     "data": {
      "text/plain": [
       "Employment       0.112211\n",
       "Country          0.000000\n",
       "EdLevel          1.634250\n",
       "YearsCodePro     0.388422\n",
       "Ethnicity       13.229370\n",
       "Salary           0.000000\n",
       "dtype: float64"
      ]
     },
     "execution_count": 454,
     "metadata": {},
     "output_type": "execute_result"
    }
   ],
   "source": [
    "df.isnull().sum()/len(df) * 100"
   ]
  },
  {
   "cell_type": "markdown",
   "id": "7a3b6dab",
   "metadata": {},
   "source": [
    "<font color = 'blue'>The null values can now be dropped from the other columns without impacting the dataset</font>"
   ]
  },
  {
   "cell_type": "code",
   "execution_count": 455,
   "id": "52f0398b",
   "metadata": {},
   "outputs": [],
   "source": [
    "df.dropna(inplace = True)"
   ]
  },
  {
   "cell_type": "code",
   "execution_count": 456,
   "id": "83be0598",
   "metadata": {},
   "outputs": [
    {
     "data": {
      "text/html": [
       "<div>\n",
       "<style scoped>\n",
       "    .dataframe tbody tr th:only-of-type {\n",
       "        vertical-align: middle;\n",
       "    }\n",
       "\n",
       "    .dataframe tbody tr th {\n",
       "        vertical-align: top;\n",
       "    }\n",
       "\n",
       "    .dataframe thead th {\n",
       "        text-align: right;\n",
       "    }\n",
       "</style>\n",
       "<table border=\"1\" class=\"dataframe\">\n",
       "  <thead>\n",
       "    <tr style=\"text-align: right;\">\n",
       "      <th></th>\n",
       "      <th>Employment</th>\n",
       "      <th>Country</th>\n",
       "      <th>EdLevel</th>\n",
       "      <th>YearsCodePro</th>\n",
       "      <th>Ethnicity</th>\n",
       "      <th>Salary</th>\n",
       "    </tr>\n",
       "  </thead>\n",
       "  <tbody>\n",
       "    <tr>\n",
       "      <th>7</th>\n",
       "      <td>Employed full-time</td>\n",
       "      <td>United States</td>\n",
       "      <td>Bachelor’s degree (B.A., B.S., B.Eng., etc.)</td>\n",
       "      <td>13</td>\n",
       "      <td>White or of European descent</td>\n",
       "      <td>116000.0</td>\n",
       "    </tr>\n",
       "    <tr>\n",
       "      <th>9</th>\n",
       "      <td>Employed full-time</td>\n",
       "      <td>United Kingdom</td>\n",
       "      <td>Master’s degree (M.A., M.S., M.Eng., MBA, etc.)</td>\n",
       "      <td>4</td>\n",
       "      <td>White or of European descent</td>\n",
       "      <td>32315.0</td>\n",
       "    </tr>\n",
       "    <tr>\n",
       "      <th>10</th>\n",
       "      <td>Employed full-time</td>\n",
       "      <td>United Kingdom</td>\n",
       "      <td>Bachelor’s degree (B.A., B.S., B.Eng., etc.)</td>\n",
       "      <td>2</td>\n",
       "      <td>White or of European descent</td>\n",
       "      <td>40070.0</td>\n",
       "    </tr>\n",
       "    <tr>\n",
       "      <th>11</th>\n",
       "      <td>Employed full-time</td>\n",
       "      <td>Spain</td>\n",
       "      <td>Some college/university study without earning ...</td>\n",
       "      <td>7</td>\n",
       "      <td>White or of European descent</td>\n",
       "      <td>14268.0</td>\n",
       "    </tr>\n",
       "    <tr>\n",
       "      <th>12</th>\n",
       "      <td>Employed full-time</td>\n",
       "      <td>Netherlands</td>\n",
       "      <td>Secondary school (e.g. American high school, G...</td>\n",
       "      <td>20</td>\n",
       "      <td>White or of European descent</td>\n",
       "      <td>38916.0</td>\n",
       "    </tr>\n",
       "  </tbody>\n",
       "</table>\n",
       "</div>"
      ],
      "text/plain": [
       "            Employment         Country  \\\n",
       "7   Employed full-time   United States   \n",
       "9   Employed full-time  United Kingdom   \n",
       "10  Employed full-time  United Kingdom   \n",
       "11  Employed full-time           Spain   \n",
       "12  Employed full-time     Netherlands   \n",
       "\n",
       "                                              EdLevel YearsCodePro  \\\n",
       "7        Bachelor’s degree (B.A., B.S., B.Eng., etc.)           13   \n",
       "9     Master’s degree (M.A., M.S., M.Eng., MBA, etc.)            4   \n",
       "10       Bachelor’s degree (B.A., B.S., B.Eng., etc.)            2   \n",
       "11  Some college/university study without earning ...            7   \n",
       "12  Secondary school (e.g. American high school, G...           20   \n",
       "\n",
       "                       Ethnicity    Salary  \n",
       "7   White or of European descent  116000.0  \n",
       "9   White or of European descent   32315.0  \n",
       "10  White or of European descent   40070.0  \n",
       "11  White or of European descent   14268.0  \n",
       "12  White or of European descent   38916.0  "
      ]
     },
     "execution_count": 456,
     "metadata": {},
     "output_type": "execute_result"
    }
   ],
   "source": [
    "df.head()"
   ]
  },
  {
   "cell_type": "code",
   "execution_count": 457,
   "id": "849bee61",
   "metadata": {},
   "outputs": [],
   "source": [
    "# We would also like to make predictions for the Full time employed individuals\n",
    "df = df[df['Employment'] == 'Employed full-time']"
   ]
  },
  {
   "cell_type": "code",
   "execution_count": 458,
   "id": "14a81ca5",
   "metadata": {},
   "outputs": [],
   "source": [
    "# we can now drop the Employment feature\n",
    "df.drop('Employment', axis = 1, inplace = True)"
   ]
  },
  {
   "cell_type": "code",
   "execution_count": 459,
   "id": "4034c848",
   "metadata": {},
   "outputs": [],
   "source": [
    "# Encoding the EdLevel\n",
    "levels = df.EdLevel.unique()\n"
   ]
  },
  {
   "cell_type": "code",
   "execution_count": 625,
   "id": "5ec9b988",
   "metadata": {},
   "outputs": [],
   "source": [
    "educational_mapping = {\n",
    "                levels[2] : 0,\n",
    "                levels[3] : 0,\n",
    "                levels[7] : 1,\n",
    "                levels[8] : 1,\n",
    "                levels[4] : 1,\n",
    "                levels[0] : 2,\n",
    "                levels[1] : 2,\n",
    "                levels[5] : 2,\n",
    "                levels[6] : 2,\n",
    "               }"
   ]
  },
  {
   "cell_type": "code",
   "execution_count": null,
   "id": "7f14aea6",
   "metadata": {},
   "outputs": [],
   "source": []
  },
  {
   "cell_type": "code",
   "execution_count": 460,
   "id": "c935c819",
   "metadata": {},
   "outputs": [],
   "source": [
    "# Creating a manual encoding (Cause I can't figure Ordinal Encoding with custom categories)\n",
    "df['Education'] = df.EdLevel.map({\n",
    "                levels[2] : 0,\n",
    "                levels[3] : 0,\n",
    "                levels[7] : 1,\n",
    "                levels[8] : 1,\n",
    "                levels[4] : 1,\n",
    "                levels[0] : 2,\n",
    "                levels[1] : 2,\n",
    "                levels[5] : 2,\n",
    "                levels[6] : 2,\n",
    "               })"
   ]
  },
  {
   "cell_type": "code",
   "execution_count": 461,
   "id": "9d101fb2",
   "metadata": {},
   "outputs": [],
   "source": [
    "# Encoding the countries \n",
    "from sklearn.preprocessing import LabelEncoder"
   ]
  },
  {
   "cell_type": "code",
   "execution_count": 462,
   "id": "75fabb9f",
   "metadata": {},
   "outputs": [
    {
     "data": {
      "text/plain": [
       "United States                       26.225115\n",
       "United Kingdom                       7.974732\n",
       "Germany                              6.634763\n",
       "India                                5.811639\n",
       "Canada                               4.035222\n",
       "                                      ...    \n",
       "Monaco                               0.003828\n",
       "Saint Vincent and the Grenadines     0.003828\n",
       "Swaziland                            0.003828\n",
       "Niger                                0.003828\n",
       "Yemen                                0.003828\n",
       "Name: Country, Length: 148, dtype: float64"
      ]
     },
     "execution_count": 462,
     "metadata": {},
     "output_type": "execute_result"
    }
   ],
   "source": [
    "# checking for the countries and their occurence\n",
    "df.Country.value_counts(normalize = True) * 100"
   ]
  },
  {
   "cell_type": "markdown",
   "id": "4e0d9681",
   "metadata": {},
   "source": [
    "<font color=blue>The United States has the largest representation, however many counteries with a smaller representation will clubbed together and dropped as they wouldn't contribute to the prediction </font>"
   ]
  },
  {
   "cell_type": "code",
   "execution_count": 463,
   "id": "1c3787cd",
   "metadata": {},
   "outputs": [],
   "source": [
    "categories = df['Country'].unique()"
   ]
  },
  {
   "cell_type": "code",
   "execution_count": 486,
   "id": "ba92d507",
   "metadata": {},
   "outputs": [],
   "source": [
    "categorical_map = {}\n",
    "for i in range(len(categories)):\n",
    "    if df['Country'].value_counts(normalize = True).values[i]*100 < 1:\n",
    "        categorical_map[df['Country'].value_counts().index[i]] = 'other'\n",
    "    else:\n",
    "        categorical_map[df['Country'].value_counts().index[i]] = df['Country'].value_counts().index[i]"
   ]
  },
  {
   "cell_type": "code",
   "execution_count": 491,
   "id": "a43ab35f",
   "metadata": {},
   "outputs": [],
   "source": [
    "df.Country = df.Country.map(categorical_map)"
   ]
  },
  {
   "cell_type": "code",
   "execution_count": 508,
   "id": "6897e063",
   "metadata": {},
   "outputs": [],
   "source": [
    "# Checking for the ethnicity\n",
    "categorical_map = {}\n",
    "for i in range(len(df.Ethnicity.unique())):\n",
    "    if df.Ethnicity.value_counts(normalize = True).values[i] * 100 < 1:\n",
    "        categorical_map[df.Ethnicity.value_counts().index[i]] = 'other'\n",
    "    else:\n",
    "        categorical_map[df.Ethnicity.value_counts().index[i]] = df.Ethnicity.value_counts().index[i]"
   ]
  },
  {
   "cell_type": "code",
   "execution_count": 509,
   "id": "b1a59457",
   "metadata": {},
   "outputs": [],
   "source": [
    "df.Ethnicity = df.Ethnicity.map(categorical_map)"
   ]
  },
  {
   "cell_type": "code",
   "execution_count": 512,
   "id": "2d64bd78",
   "metadata": {},
   "outputs": [],
   "source": [
    "# encoding the two features Country, Ethnicity\n",
    "from sklearn.preprocessing import LabelEncoder"
   ]
  },
  {
   "cell_type": "code",
   "execution_count": 513,
   "id": "dfa61e6c",
   "metadata": {},
   "outputs": [],
   "source": [
    "le_country = LabelEncoder()\n",
    "le_ethnicity = LabelEncoder()"
   ]
  },
  {
   "cell_type": "code",
   "execution_count": 514,
   "id": "aad2c80c",
   "metadata": {},
   "outputs": [
    {
     "data": {
      "text/plain": [
       "LabelEncoder()"
      ]
     },
     "execution_count": 514,
     "metadata": {},
     "output_type": "execute_result"
    }
   ],
   "source": [
    "le_country.fit(df[['Country']])"
   ]
  },
  {
   "cell_type": "code",
   "execution_count": 516,
   "id": "78b3d0e3",
   "metadata": {},
   "outputs": [],
   "source": [
    "df['Country'] = le_country.transform(df[['Country']])"
   ]
  },
  {
   "cell_type": "code",
   "execution_count": 517,
   "id": "558b7ff8",
   "metadata": {},
   "outputs": [
    {
     "data": {
      "text/plain": [
       "LabelEncoder()"
      ]
     },
     "execution_count": 517,
     "metadata": {},
     "output_type": "execute_result"
    }
   ],
   "source": [
    "le_ethnicity.fit(df[['Ethnicity']])"
   ]
  },
  {
   "cell_type": "code",
   "execution_count": 518,
   "id": "330155cc",
   "metadata": {},
   "outputs": [],
   "source": [
    "df['Ethnicity'] = le_ethnicity.transform(df[['Ethnicity']])"
   ]
  },
  {
   "cell_type": "code",
   "execution_count": 519,
   "id": "629cbde3",
   "metadata": {},
   "outputs": [
    {
     "data": {
      "text/html": [
       "<div>\n",
       "<style scoped>\n",
       "    .dataframe tbody tr th:only-of-type {\n",
       "        vertical-align: middle;\n",
       "    }\n",
       "\n",
       "    .dataframe tbody tr th {\n",
       "        vertical-align: top;\n",
       "    }\n",
       "\n",
       "    .dataframe thead th {\n",
       "        text-align: right;\n",
       "    }\n",
       "</style>\n",
       "<table border=\"1\" class=\"dataframe\">\n",
       "  <thead>\n",
       "    <tr style=\"text-align: right;\">\n",
       "      <th></th>\n",
       "      <th>Country</th>\n",
       "      <th>EdLevel</th>\n",
       "      <th>YearsCodePro</th>\n",
       "      <th>Ethnicity</th>\n",
       "      <th>Salary</th>\n",
       "      <th>Education</th>\n",
       "      <th>NewCountry</th>\n",
       "    </tr>\n",
       "  </thead>\n",
       "  <tbody>\n",
       "    <tr>\n",
       "      <th>7</th>\n",
       "      <td>13</td>\n",
       "      <td>Bachelor’s degree (B.A., B.S., B.Eng., etc.)</td>\n",
       "      <td>13</td>\n",
       "      <td>7</td>\n",
       "      <td>116000.0</td>\n",
       "      <td>2</td>\n",
       "      <td>United States</td>\n",
       "    </tr>\n",
       "    <tr>\n",
       "      <th>9</th>\n",
       "      <td>12</td>\n",
       "      <td>Master’s degree (M.A., M.S., M.Eng., MBA, etc.)</td>\n",
       "      <td>4</td>\n",
       "      <td>7</td>\n",
       "      <td>32315.0</td>\n",
       "      <td>2</td>\n",
       "      <td>United Kingdom</td>\n",
       "    </tr>\n",
       "    <tr>\n",
       "      <th>10</th>\n",
       "      <td>12</td>\n",
       "      <td>Bachelor’s degree (B.A., B.S., B.Eng., etc.)</td>\n",
       "      <td>2</td>\n",
       "      <td>7</td>\n",
       "      <td>40070.0</td>\n",
       "      <td>2</td>\n",
       "      <td>United Kingdom</td>\n",
       "    </tr>\n",
       "    <tr>\n",
       "      <th>11</th>\n",
       "      <td>10</td>\n",
       "      <td>Some college/university study without earning ...</td>\n",
       "      <td>7</td>\n",
       "      <td>7</td>\n",
       "      <td>14268.0</td>\n",
       "      <td>0</td>\n",
       "      <td>Spain</td>\n",
       "    </tr>\n",
       "    <tr>\n",
       "      <th>12</th>\n",
       "      <td>7</td>\n",
       "      <td>Secondary school (e.g. American high school, G...</td>\n",
       "      <td>20</td>\n",
       "      <td>7</td>\n",
       "      <td>38916.0</td>\n",
       "      <td>0</td>\n",
       "      <td>Netherlands</td>\n",
       "    </tr>\n",
       "  </tbody>\n",
       "</table>\n",
       "</div>"
      ],
      "text/plain": [
       "    Country                                            EdLevel YearsCodePro  \\\n",
       "7        13       Bachelor’s degree (B.A., B.S., B.Eng., etc.)           13   \n",
       "9        12    Master’s degree (M.A., M.S., M.Eng., MBA, etc.)            4   \n",
       "10       12       Bachelor’s degree (B.A., B.S., B.Eng., etc.)            2   \n",
       "11       10  Some college/university study without earning ...            7   \n",
       "12        7  Secondary school (e.g. American high school, G...           20   \n",
       "\n",
       "    Ethnicity    Salary  Education      NewCountry  \n",
       "7           7  116000.0          2   United States  \n",
       "9           7   32315.0          2  United Kingdom  \n",
       "10          7   40070.0          2  United Kingdom  \n",
       "11          7   14268.0          0           Spain  \n",
       "12          7   38916.0          0     Netherlands  "
      ]
     },
     "execution_count": 519,
     "metadata": {},
     "output_type": "execute_result"
    }
   ],
   "source": [
    "df.head()"
   ]
  },
  {
   "cell_type": "code",
   "execution_count": 520,
   "id": "dee8312c",
   "metadata": {},
   "outputs": [],
   "source": [
    "# Dropping the columns EdLevel and NewCountry\n",
    "df.drop(columns = ['EdLevel', 'NewCountry'], inplace = True)"
   ]
  },
  {
   "cell_type": "code",
   "execution_count": 521,
   "id": "b6d7cf0c",
   "metadata": {},
   "outputs": [
    {
     "data": {
      "text/html": [
       "<div>\n",
       "<style scoped>\n",
       "    .dataframe tbody tr th:only-of-type {\n",
       "        vertical-align: middle;\n",
       "    }\n",
       "\n",
       "    .dataframe tbody tr th {\n",
       "        vertical-align: top;\n",
       "    }\n",
       "\n",
       "    .dataframe thead th {\n",
       "        text-align: right;\n",
       "    }\n",
       "</style>\n",
       "<table border=\"1\" class=\"dataframe\">\n",
       "  <thead>\n",
       "    <tr style=\"text-align: right;\">\n",
       "      <th></th>\n",
       "      <th>Country</th>\n",
       "      <th>YearsCodePro</th>\n",
       "      <th>Ethnicity</th>\n",
       "      <th>Salary</th>\n",
       "      <th>Education</th>\n",
       "    </tr>\n",
       "  </thead>\n",
       "  <tbody>\n",
       "    <tr>\n",
       "      <th>7</th>\n",
       "      <td>13</td>\n",
       "      <td>13</td>\n",
       "      <td>7</td>\n",
       "      <td>116000.0</td>\n",
       "      <td>2</td>\n",
       "    </tr>\n",
       "    <tr>\n",
       "      <th>9</th>\n",
       "      <td>12</td>\n",
       "      <td>4</td>\n",
       "      <td>7</td>\n",
       "      <td>32315.0</td>\n",
       "      <td>2</td>\n",
       "    </tr>\n",
       "    <tr>\n",
       "      <th>10</th>\n",
       "      <td>12</td>\n",
       "      <td>2</td>\n",
       "      <td>7</td>\n",
       "      <td>40070.0</td>\n",
       "      <td>2</td>\n",
       "    </tr>\n",
       "    <tr>\n",
       "      <th>11</th>\n",
       "      <td>10</td>\n",
       "      <td>7</td>\n",
       "      <td>7</td>\n",
       "      <td>14268.0</td>\n",
       "      <td>0</td>\n",
       "    </tr>\n",
       "    <tr>\n",
       "      <th>12</th>\n",
       "      <td>7</td>\n",
       "      <td>20</td>\n",
       "      <td>7</td>\n",
       "      <td>38916.0</td>\n",
       "      <td>0</td>\n",
       "    </tr>\n",
       "  </tbody>\n",
       "</table>\n",
       "</div>"
      ],
      "text/plain": [
       "    Country YearsCodePro  Ethnicity    Salary  Education\n",
       "7        13           13          7  116000.0          2\n",
       "9        12            4          7   32315.0          2\n",
       "10       12            2          7   40070.0          2\n",
       "11       10            7          7   14268.0          0\n",
       "12        7           20          7   38916.0          0"
      ]
     },
     "execution_count": 521,
     "metadata": {},
     "output_type": "execute_result"
    }
   ],
   "source": [
    "df.head()"
   ]
  },
  {
   "cell_type": "code",
   "execution_count": 523,
   "id": "95117aae",
   "metadata": {},
   "outputs": [
    {
     "name": "stdout",
     "output_type": "stream",
     "text": [
      "<class 'pandas.core.frame.DataFrame'>\n",
      "Int64Index: 26120 entries, 7 to 63955\n",
      "Data columns (total 5 columns):\n",
      " #   Column        Non-Null Count  Dtype  \n",
      "---  ------        --------------  -----  \n",
      " 0   Country       26120 non-null  int32  \n",
      " 1   YearsCodePro  26120 non-null  object \n",
      " 2   Ethnicity     26120 non-null  int32  \n",
      " 3   Salary        26120 non-null  float64\n",
      " 4   Education     26120 non-null  int64  \n",
      "dtypes: float64(1), int32(2), int64(1), object(1)\n",
      "memory usage: 1020.3+ KB\n"
     ]
    }
   ],
   "source": [
    "df.info()"
   ]
  },
  {
   "cell_type": "code",
   "execution_count": 524,
   "id": "6c6d088e",
   "metadata": {},
   "outputs": [],
   "source": [
    "# The YearsCodePro is still an object type, we convert it to float"
   ]
  },
  {
   "cell_type": "code",
   "execution_count": 525,
   "id": "3e2f61cc",
   "metadata": {},
   "outputs": [
    {
     "data": {
      "text/plain": [
       "3                     2771\n",
       "2                     2592\n",
       "5                     2344\n",
       "4                     2110\n",
       "6                     1723\n",
       "10                    1553\n",
       "7                     1390\n",
       "1                     1388\n",
       "8                     1372\n",
       "Less than 1 year       997\n",
       "12                     849\n",
       "15                     844\n",
       "20                     784\n",
       "9                      749\n",
       "11                     597\n",
       "13                     555\n",
       "14                     436\n",
       "16                     367\n",
       "25                     283\n",
       "18                     273\n",
       "17                     271\n",
       "22                     253\n",
       "21                     218\n",
       "19                     213\n",
       "23                     188\n",
       "30                     154\n",
       "24                     133\n",
       "26                      93\n",
       "27                      82\n",
       "35                      68\n",
       "28                      66\n",
       "32                      54\n",
       "33                      46\n",
       "31                      43\n",
       "29                      39\n",
       "34                      37\n",
       "38                      36\n",
       "40                      34\n",
       "36                      25\n",
       "39                      22\n",
       "37                      22\n",
       "42                      12\n",
       "41                       9\n",
       "More than 50 years       8\n",
       "45                       6\n",
       "43                       4\n",
       "44                       2\n",
       "50                       2\n",
       "47                       2\n",
       "49                       1\n",
       "Name: YearsCodePro, dtype: int64"
      ]
     },
     "execution_count": 525,
     "metadata": {},
     "output_type": "execute_result"
    }
   ],
   "source": [
    "df.YearsCodePro.value_counts()"
   ]
  },
  {
   "cell_type": "markdown",
   "id": "3a4e663d",
   "metadata": {},
   "source": [
    "<font color = 'blue'>We change the less than 1 year to 0.5 and more than 50 years to 50</font>"
   ]
  },
  {
   "cell_type": "code",
   "execution_count": 541,
   "id": "b3338316",
   "metadata": {},
   "outputs": [],
   "source": [
    "categorical_map = {}\n",
    "for i in range(len(df.YearsCodePro.value_counts().index)):\n",
    "    if df.YearsCodePro.value_counts().index[i] == 'Less than 1 year':\n",
    "        categorical_map[df.YearsCodePro.value_counts().index[i]] = 0.5\n",
    "    elif df.YearsCodePro.value_counts().index[i] == 'More than 50 years':\n",
    "        categorical_map[df.YearsCodePro.value_counts().index[i]] = 50\n",
    "    else:\n",
    "        categorical_map[df.YearsCodePro.value_counts().index[i]] = np.float(df.YearsCodePro.value_counts().index[i])"
   ]
  },
  {
   "cell_type": "code",
   "execution_count": 544,
   "id": "4b142077",
   "metadata": {},
   "outputs": [],
   "source": [
    "df.YearsCodePro = df.YearsCodePro.map(categorical_map)"
   ]
  },
  {
   "cell_type": "code",
   "execution_count": 546,
   "id": "9880807e",
   "metadata": {},
   "outputs": [
    {
     "name": "stdout",
     "output_type": "stream",
     "text": [
      "<class 'pandas.core.frame.DataFrame'>\n",
      "Int64Index: 26120 entries, 7 to 63955\n",
      "Data columns (total 5 columns):\n",
      " #   Column        Non-Null Count  Dtype  \n",
      "---  ------        --------------  -----  \n",
      " 0   Country       26120 non-null  int32  \n",
      " 1   YearsCodePro  26120 non-null  float64\n",
      " 2   Ethnicity     26120 non-null  int32  \n",
      " 3   Salary        26120 non-null  float64\n",
      " 4   Education     26120 non-null  int64  \n",
      "dtypes: float64(2), int32(2), int64(1)\n",
      "memory usage: 1020.3 KB\n"
     ]
    }
   ],
   "source": [
    "df.info()"
   ]
  },
  {
   "cell_type": "code",
   "execution_count": 547,
   "id": "3bc2c766",
   "metadata": {},
   "outputs": [],
   "source": [
    "# performing a feature target estimation\n",
    "import phik"
   ]
  },
  {
   "cell_type": "code",
   "execution_count": 558,
   "id": "bbde2aa9",
   "metadata": {},
   "outputs": [],
   "source": [
    "pvalues = []\n",
    "scores  = []\n",
    "features= []\n",
    "\n",
    "y = df['Salary']\n",
    "x = df.drop('Salary', axis = 1)\n",
    "\n",
    "for col in x.columns:\n",
    "    scores.append(phik.phik_from_array(x[col], y, bins = [col]))\n",
    "    pvalues.append(phik.significance_from_array(x[col],y,bins = [col])[0])\n",
    "    features.append(col)"
   ]
  },
  {
   "cell_type": "code",
   "execution_count": 559,
   "id": "d5d07dc5",
   "metadata": {},
   "outputs": [],
   "source": [
    "temp = pd.DataFrame({'Features' : features, 'Pvalues' : pvalues, 'Scores' : scores})"
   ]
  },
  {
   "cell_type": "code",
   "execution_count": 560,
   "id": "a8b3fba9",
   "metadata": {},
   "outputs": [],
   "source": [
    "temp.set_index('Features', inplace = True)"
   ]
  },
  {
   "cell_type": "code",
   "execution_count": 565,
   "id": "d6948deb",
   "metadata": {},
   "outputs": [
    {
     "data": {
      "image/png": "[encoded data removed]",
      "text/plain": [
       "<Figure size 432x288 with 2 Axes>"
      ]
     },
     "metadata": {
      "needs_background": "light"
     },
     "output_type": "display_data"
    }
   ],
   "source": [
    "temp.sort_values('Scores', ascending =False).plot.bar(subplots = True)\n",
    "plt.show()"
   ]
  },
  {
   "cell_type": "markdown",
   "id": "101d5fe8",
   "metadata": {},
   "source": [
    "<font color = 'blue'>Apparently the Country and the Ethnicity have a huge influence on the Salary earned</font>"
   ]
  },
  {
   "cell_type": "code",
   "execution_count": 567,
   "id": "55a130ba",
   "metadata": {},
   "outputs": [],
   "source": [
    "# building a randomForestRegressor model\n",
    "from sklearn.ensemble import RandomForestRegressor"
   ]
  },
  {
   "cell_type": "code",
   "execution_count": 568,
   "id": "4caadbe3",
   "metadata": {},
   "outputs": [],
   "source": [
    "rf = RandomForestRegressor()"
   ]
  },
  {
   "cell_type": "code",
   "execution_count": 569,
   "id": "c36bf180",
   "metadata": {},
   "outputs": [],
   "source": [
    "# splitting the data into a training and test set\n",
    "from sklearn.model_selection import train_test_split"
   ]
  },
  {
   "cell_type": "code",
   "execution_count": 573,
   "id": "da412584",
   "metadata": {},
   "outputs": [],
   "source": [
    "xtrain, xtest, ytrain, ytest = train_test_split(x, y, test_size = 0.2, random_state = 42)"
   ]
  },
  {
   "cell_type": "code",
   "execution_count": 575,
   "id": "c506ca3b",
   "metadata": {},
   "outputs": [
    {
     "data": {
      "text/plain": [
       "RandomForestRegressor()"
      ]
     },
     "execution_count": 575,
     "metadata": {},
     "output_type": "execute_result"
    }
   ],
   "source": [
    "# training the model\n",
    "rf.fit(xtrain, ytrain)"
   ]
  },
  {
   "cell_type": "code",
   "execution_count": 576,
   "id": "2c9b8482",
   "metadata": {},
   "outputs": [],
   "source": [
    "# making a prediction\n",
    "ypred = rf.predict(xtest)"
   ]
  },
  {
   "cell_type": "code",
   "execution_count": 579,
   "id": "7b60653d",
   "metadata": {},
   "outputs": [],
   "source": [
    "# checking to see the loss\n",
    "from sklearn.metrics import mean_absolute_error"
   ]
  },
  {
   "cell_type": "code",
   "execution_count": 583,
   "id": "6d350499",
   "metadata": {},
   "outputs": [
    {
     "data": {
      "text/plain": [
       "228427.34157897942"
      ]
     },
     "execution_count": 583,
     "metadata": {},
     "output_type": "execute_result"
    }
   ],
   "source": [
    "np.sqrt(mean_squared_error(ypred, ytest))"
   ]
  },
  {
   "cell_type": "code",
   "execution_count": 584,
   "id": "de40cdea",
   "metadata": {},
   "outputs": [],
   "source": [
    "# using Cross validation to build a better predictor\n",
    "from sklearn.model_selection import GridSearchCV"
   ]
  },
  {
   "cell_type": "code",
   "execution_count": 586,
   "id": "bd654883",
   "metadata": {},
   "outputs": [],
   "source": [
    "param_grid = {'n_estimators':[100, 200, 300, 500],\n",
    "              'max_depth': range(2, 10),\n",
    "              'min_samples_split' : [2, 3, 4, 5]\n",
    "             }"
   ]
  },
  {
   "cell_type": "code",
   "execution_count": 589,
   "id": "6d071dde",
   "metadata": {},
   "outputs": [],
   "source": [
    "gscv = GridSearchCV(estimator = RandomForestRegressor(), param_grid = param_grid, n_jobs = -1)"
   ]
  },
  {
   "cell_type": "code",
   "execution_count": 590,
   "id": "a671e47d",
   "metadata": {},
   "outputs": [
    {
     "data": {
      "text/plain": [
       "GridSearchCV(estimator=RandomForestRegressor(), n_jobs=-1,\n",
       "             param_grid={'max_depth': range(2, 10),\n",
       "                         'min_samples_split': [2, 3, 4, 5],\n",
       "                         'n_estimators': [100, 200, 300, 500]})"
      ]
     },
     "execution_count": 590,
     "metadata": {},
     "output_type": "execute_result"
    }
   ],
   "source": [
    "gscv.fit(xtrain, ytrain)"
   ]
  },
  {
   "cell_type": "code",
   "execution_count": 591,
   "id": "3cc2c3cd",
   "metadata": {},
   "outputs": [
    {
     "data": {
      "text/plain": [
       "{'max_depth': 5, 'min_samples_split': 3, 'n_estimators': 300}"
      ]
     },
     "execution_count": 591,
     "metadata": {},
     "output_type": "execute_result"
    }
   ],
   "source": [
    "gscv.best_params_"
   ]
  },
  {
   "cell_type": "code",
   "execution_count": 593,
   "id": "fec2656d",
   "metadata": {},
   "outputs": [],
   "source": [
    "best_model = gscv.best_estimator_"
   ]
  },
  {
   "cell_type": "code",
   "execution_count": 595,
   "id": "644d3554",
   "metadata": {},
   "outputs": [],
   "source": [
    "ypred = best_model.predict(xtest)"
   ]
  },
  {
   "cell_type": "code",
   "execution_count": 596,
   "id": "fe5d1933",
   "metadata": {},
   "outputs": [
    {
     "data": {
      "text/plain": [
       "221716.2789425282"
      ]
     },
     "execution_count": 596,
     "metadata": {},
     "output_type": "execute_result"
    }
   ],
   "source": [
    "np.sqrt(mean_squared_error(ypred, ytest))"
   ]
  },
  {
   "cell_type": "markdown",
   "id": "b573f63b",
   "metadata": {},
   "source": [
    "<font color = 'blue'>The new estimator has better fit</font>"
   ]
  },
  {
   "cell_type": "code",
   "execution_count": 598,
   "id": "13eaf6f8",
   "metadata": {},
   "outputs": [],
   "source": [
    "import pickle"
   ]
  },
  {
   "cell_type": "code",
   "execution_count": 626,
   "id": "3134dc91",
   "metadata": {},
   "outputs": [],
   "source": [
    "with open('project.pkl', 'wb') as file:\n",
    "    pickle.dump([best_model, le_country, le_ethnicity, educational_mapping], file)"
   ]
  },
  {
   "cell_type": "code",
   "execution_count": 627,
   "id": "f4ed599b",
   "metadata": {},
   "outputs": [],
   "source": [
    "with open('project.pkl', 'rb') as file:\n",
    "    data = pickle.load(file)"
   ]
  },
  {
   "cell_type": "code",
   "execution_count": 610,
   "id": "288124df",
   "metadata": {},
   "outputs": [],
   "source": [
    "test_model = data[0]"
   ]
  },
  {
   "cell_type": "code",
   "execution_count": 612,
   "id": "703b506f",
   "metadata": {},
   "outputs": [],
   "source": [
    "import streamlit as st"
   ]
  },
  {
   "cell_type": "code",
   "execution_count": 1,
   "id": "0b46cf80",
   "metadata": {},
   "outputs": [
    {
     "ename": "NameError",
     "evalue": "name 'x' is not defined",
     "output_type": "error",
     "traceback": [
      "\u001b[1;31m---------------------------------------------------------------------------\u001b[0m",
      "\u001b[1;31mNameError\u001b[0m                                 Traceback (most recent call last)",
      "Input \u001b[1;32mIn [1]\u001b[0m, in \u001b[0;36m<module>\u001b[1;34m\u001b[0m\n\u001b[1;32m----> 1\u001b[0m \u001b[43mx\u001b[49m\u001b[38;5;241m.\u001b[39mcolumns\n",
      "\u001b[1;31mNameError\u001b[0m: name 'x' is not defined"
     ]
    }
   ],
   "source": [
    "x.columns"
   ]
  },
  {
   "cell_type": "code",
   "execution_count": null,
   "id": "af292489",
   "metadata": {},
   "outputs": [],
   "source": []
  }
 ],
 "metadata": {
  "kernelspec": {
   "display_name": "Python 3 (ipykernel)",
   "language": "python",
   "name": "python3"
  },
  "language_info": {
   "codemirror_mode": {
    "name": "ipython",
    "version": 3
   },
   "file_extension": ".py",
   "mimetype": "text/x-python",
   "name": "python",
   "nbconvert_exporter": "python",
   "pygments_lexer": "ipython3",
   "version": "3.9.10"
  }
 },
 "nbformat": 4,
 "nbformat_minor": 5
}
